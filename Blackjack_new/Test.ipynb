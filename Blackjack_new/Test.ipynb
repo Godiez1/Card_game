{
 "cells": [
  {
   "cell_type": "code",
   "execution_count": null,
   "source": [
    "'''Traceback (most recent call last):\n",
    "  File \"/Users/god/.vscode/extensions/ms-toolsai.jupyter-2021.8.2041215044/pythonFiles/vscode_datascience_helpers/daemon/daemon_python.py\", line 54, in _decorator\n",
    "    return func(self, *args, **kwargs)\n",
    "  File \"/Users/god/.vscode/extensions/ms-toolsai.jupyter-2021.8.2041215044/pythonFiles/vscode_datascience_helpers/jupyter_daemon.py\", line 108, in m_exec_module_observable\n",
    "    self._start_notebook(args, cwd, env)\n",
    "  File \"/Users/god/.vscode/extensions/ms-toolsai.jupyter-2021.8.2041215044/pythonFiles/vscode_datascience_helpers/jupyter_daemon.py\", line 154, in _start_notebook\n",
    "    from notebook import notebookapp as app\n",
    "  File \"/Users/god/Library/Python/3.10/lib/python/site-packages/notebook/notebookapp.py\", line 81, in <module>\n",
    "    from .services.contents.filemanager import FileContentsManager\n",
    "  File \"/Users/god/Library/Python/3.10/lib/python/site-packages/notebook/services/contents/filemanager.py\", line 17, in <module>\n",
    "    from send2trash import send2trash\n",
    "  File \"/Users/god/Library/Python/3.10/lib/python/site-packages/send2trash/__init__.py\", line 12, in <module>\n",
    "    from .plat_osx import send2trash\n",
    "  File \"/Users/god/Library/Python/3.10/lib/python/site-packages/send2trash/plat_osx.py\", line 14, in <module>\n",
    "    from .plat_osx_pyobjc import send2trash\n",
    "  File \"/Users/god/Library/Python/3.10/lib/python/site-packages/send2trash/plat_osx_pyobjc.py\", line 7, in <module>\n",
    "    from Foundation import NSFileManager, NSURL\n",
    "  File \"/Library/Frameworks/Python.framework/Versions/3.10/lib/python3.10/site-packages/Foundation/__init__.py\", line 9, in <module>\n",
    "    import CoreFoundation\n",
    "  File \"/Library/Frameworks/Python.framework/Versions/3.10/lib/python3.10/site-packages/CoreFoundation/__init__.py\", line 9, in <module>\n",
    "    import objc\n",
    "  File \"/Library/Frameworks/Python.framework/Versions/3.10/lib/python3.10/site-packages/objc/__init__.py\", line 6, in <module>\n",
    "    from . import _objc\n",
    "SystemError: initialization of _objc failed without raising an exception\n",
    "\n",
    "Failed to run jupyter as observable with args notebook --no-browser --notebook-dir=\"/Users/god/Desktop/Programming/Python/Practice/class/Blackjack_new\" --config=/var/folders/1h/93wslqxj7kz5qnq_szkpw2nc0000gn/T/1735168f-056a-488f-aeb5-37087e43452d/jupyter_notebook_config.py --NotebookApp.iopub_data_rate_limit=10000000000.0\n",
    "'''"
   ],
   "outputs": [],
   "metadata": {}
  },
  {
   "cell_type": "code",
   "execution_count": null,
   "source": [],
   "outputs": [],
   "metadata": {}
  }
 ],
 "metadata": {
  "orig_nbformat": 4,
  "language_info": {
   "name": "python",
   "version": "3.9.6"
  },
  "kernelspec": {
   "name": "python3",
   "display_name": "Python 3.9.6 64-bit"
  },
  "interpreter": {
   "hash": "397704579725e15f5c7cb49fe5f0341eb7531c82d19f2c29d197e8b64ab5776b"
  }
 },
 "nbformat": 4,
 "nbformat_minor": 2
}