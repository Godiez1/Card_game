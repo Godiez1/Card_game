{
 "cells": [
  {
   "cell_type": "code",
   "execution_count": 5,
   "source": [],
   "outputs": [
    {
     "output_type": "stream",
     "name": "stdout",
     "text": [
      "Object `if` not found.\n"
     ]
    }
   ],
   "metadata": {}
  },
  {
   "cell_type": "code",
   "execution_count": 10,
   "source": [
    "coordinate = (int(input('x')), int(input('y')))\n",
    "match coordinate:\n",
    "    case (0, 0):\n",
    "        print('center')\n",
    "    case (x, 0):\n",
    "        print('left', x)\n",
    "    case (0, y):\n",
    "        print('right', y)\n",
    "    case _:\n",
    "        print('other')\n"
   ],
   "outputs": [
    {
     "output_type": "stream",
     "name": "stdout",
     "text": [
      "left 4\n"
     ]
    }
   ],
   "metadata": {}
  },
  {
   "cell_type": "code",
   "execution_count": null,
   "source": [],
   "outputs": [],
   "metadata": {}
  },
  {
   "cell_type": "code",
   "execution_count": null,
   "source": [],
   "outputs": [],
   "metadata": {}
  }
 ],
 "metadata": {
  "orig_nbformat": 4,
  "language_info": {
   "name": "python",
   "version": "3.10.0",
   "mimetype": "text/x-python",
   "codemirror_mode": {
    "name": "ipython",
    "version": 3
   },
   "pygments_lexer": "ipython3",
   "nbconvert_exporter": "python",
   "file_extension": ".py"
  },
  "kernelspec": {
   "name": "python3",
   "display_name": "Python 3.10.0 64-bit ('venv': venv)"
  },
  "interpreter": {
   "hash": "6a7b5c11bbe6b6a58da9fb79158e30860c29a9c8686d34549ac4b1bc34ce9caf"
  }
 },
 "nbformat": 4,
 "nbformat_minor": 2
}