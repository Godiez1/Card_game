{
 "cells": [
  {
   "cell_type": "code",
   "execution_count": 3,
   "metadata": {},
   "outputs": [],
   "source": [
    "with open('kewqongijerbgpeda.csv', 'w') as fuck:\n",
    "    fuck.write('banana')"
   ]
  },
  {
   "cell_type": "code",
   "execution_count": 9,
   "metadata": {},
   "outputs": [
    {
     "name": "stdout",
     "output_type": "stream",
     "text": [
      "y1 is 3.00\n",
      "y2 is 4.00\n",
      "y3 is 9.00\n",
      "y4 is 10.00\n"
     ]
    }
   ],
   "source": [
    "x1, x2, x3, x4, x5, x6 = map(int, input('Enter 6 number for x1 to x6:').split())\n",
    "x7, x8, x9, x10, x11, x12 = map(int, input('Enter 6 number for x7 to x12:').split())\n",
    "\n",
    "\n",
    "def multiply(a, b):\n",
    "    return [\n",
    "        [a[0][0]*b[0][0]+a[0][1]*b[1][0], a[0][0]*b[0][1]+a[0][1]*b[1][1]],\n",
    "        [a[1][0]*b[0][0]+a[1][1]*b[1][0], a[1][0]*b[0][1]+a[1][1]*b[1][1]]\n",
    "    ]\n",
    "\n",
    "def inverse(m):\n",
    "    a, b, c, d = [m[i][j] for i in range(2) for j in range(2)]\n",
    "    fac = a*d - b*c\n",
    "    if not fac:\n",
    "        print('Cannot find the matrix Y')\n",
    "        return\n",
    "    a, d = d*(1/fac), a*(1/fac)\n",
    "    c*=-1*(1/fac)\n",
    "    b*=-1*(1/fac)\n",
    "    return [[a, b],\n",
    "            [c, d]]\n",
    "\n",
    "\n",
    "'''\n",
    "[\n",
    "    [0][0], [0][1]    [0][0], [0][1]\n",
    "    [1][0], [1][1]    [1][0], [1][1]\n",
    "]\n",
    "'''\n",
    "\n",
    "A = [\n",
    "    [x1, x2],\n",
    "    [x7, x8]\n",
    "]\n",
    "\n",
    "B = [\n",
    "    [x3, x4],\n",
    "    [x9, x10]\n",
    "]\n",
    "\n",
    "C = [\n",
    "    [x5, x6],\n",
    "    [x11, x12]\n",
    "]\n",
    "\n",
    "b_inverse = inverse(B)\n",
    "if b_inverse:\n",
    "    y = multiply(multiply(A, b_inverse), C)\n",
    "    print(f'y1 is {y[0][0]:.2f}')\n",
    "    print(f'y2 is {y[0][1]:.2f}')\n",
    "    print(f'y3 is {y[1][0]:.2f}')\n",
    "    print(f'y4 is {y[1][1]:.2f}')\n"
   ]
  },
  {
   "cell_type": "code",
   "execution_count": 5,
   "metadata": {},
   "outputs": [
    {
     "data": {
      "text/plain": [
       "(1, 2, 3, 4)"
      ]
     },
     "execution_count": 5,
     "metadata": {},
     "output_type": "execute_result"
    }
   ],
   "source": [
    "inverse([[1, 2],\n",
    "         [3, 4]])"
   ]
  },
  {
   "cell_type": "code",
   "execution_count": 11,
   "metadata": {},
   "outputs": [
    {
     "name": "stdout",
     "output_type": "stream",
     "text": [
      "Username is incorrect. Try again.\n",
      "\n",
      "Username is incorrect. Try again.\n",
      "\n",
      "Username is incorrect. Try again.\n",
      "\n",
      "Username is incorrect. Try again.\n",
      "\n"
     ]
    }
   ],
   "source": [
    "while 1:\n",
    "  username = input(\"Enter username: \")\n",
    "  usernameDigi = username[0:10]\n",
    "  emailCheck = username[10:26]\n",
    "  if(len(usernameDigi) == 10 and usernameDigi.isnumeric() and emailCheck == \"@g.siit.tu.ac.th\"):\n",
    "  \n",
    "    password = input(\"Enter password: \")\n",
    "  \n",
    "\n",
    "    if(len(password) == 4):\n",
    "      Repassword = input(\"Reenter password: \")\n",
    "      if(password == Repassword):\n",
    "        print(\"Access granted.\")\n",
    "        break\n",
    "\n",
    "      else:\n",
    "        print(\"Password does not match. Try again.\")\n",
    "        print(\"\")\n",
    "        continue\n",
    "         \n",
    "    else:\n",
    "      print(\"Password must be 4digits. Try again. \")\n",
    "      print(\"\") \n",
    "      continue\n",
    "\n",
    "  else:\n",
    "    print(\"Username is incorrect. Try again.\")\n",
    "    print(\"\")\n",
    "    continue\n",
    "\n",
    "print(\"------------------------------------------\")    \n"
   ]
  }
 ],
 "metadata": {
  "interpreter": {
   "hash": "aee8b7b246df8f9039afb4144a1f6fd8d2ca17a180786b69acc140d282b71a49"
  },
  "kernelspec": {
   "display_name": "Python 3.10.0 64-bit",
   "language": "python",
   "name": "python3"
  },
  "language_info": {
   "codemirror_mode": {
    "name": "ipython",
    "version": 3
   },
   "file_extension": ".py",
   "mimetype": "text/x-python",
   "name": "python",
   "nbconvert_exporter": "python",
   "pygments_lexer": "ipython3",
   "version": "3.10.0"
  },
  "orig_nbformat": 4
 },
 "nbformat": 4,
 "nbformat_minor": 2
}
