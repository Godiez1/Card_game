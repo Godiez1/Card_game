{
 "cells": [
  {
   "cell_type": "code",
   "execution_count": null,
   "metadata": {},
   "outputs": [],
   "source": [
    "with open('kewqongijerbgpeda.csv', 'w') as fuck:\n",
    "    fuck.write('banana')"
   ]
  },
  {
   "cell_type": "code",
   "execution_count": null,
   "metadata": {},
   "outputs": [],
   "source": [
    "x1, x2, x3, x4, x5, x6 = map(int, input('Enter 6 number for x1 to x6:').split())\n",
    "x7, x8, x9, x10, x11, x12 = map(int, input('Enter 6 number for x7 to x12:').split())\n",
    "\n",
    "\n",
    "def multiply(a, b):\n",
    "    return [\n",
    "        [a[0][0]*b[0][0]+a[0][1]*b[1][0], a[0][0]*b[0][1]+a[0][1]*b[1][1]],\n",
    "        [a[1][0]*b[0][0]+a[1][1]*b[1][0], a[1][0]*b[0][1]+a[1][1]*b[1][1]]\n",
    "    ]\n",
    "\n",
    "def inverse(m):\n",
    "    a, b, c, d = [m[i][j] for i in range(2) for j in range(2)]\n",
    "    fac = a*d - b*c\n",
    "    if not fac:\n",
    "        print('Cannot find the matrix Y')\n",
    "        return\n",
    "    a, d = d*(1/fac), a*(1/fac)\n",
    "    c*=-1*(1/fac)\n",
    "    b*=-1*(1/fac)\n",
    "    return [[a, b],\n",
    "            [c, d]]\n",
    "\n",
    "\n",
    "'''\n",
    "[\n",
    "    [0][0], [0][1]    [0][0], [0][1]\n",
    "    [1][0], [1][1]    [1][0], [1][1]\n",
    "]\n",
    "'''\n",
    "\n",
    "A = [\n",
    "    [x1, x2],\n",
    "    [x7, x8]\n",
    "]\n",
    "\n",
    "B = [\n",
    "    [x3, x4],\n",
    "    [x9, x10]\n",
    "]\n",
    "\n",
    "C = [\n",
    "    [x5, x6],\n",
    "    [x11, x12]\n",
    "]\n",
    "\n",
    "b_inverse = inverse(B)\n",
    "if b_inverse:\n",
    "    y = multiply(multiply(A, b_inverse), C)\n",
    "    print(f'y1 is {y[0][0]:.2f}')\n",
    "    print(f'y2 is {y[0][1]:.2f}')\n",
    "    print(f'y3 is {y[1][0]:.2f}')\n",
    "    print(f'y4 is {y[1][1]:.2f}')\n"
   ]
  },
  {
   "cell_type": "code",
   "execution_count": null,
   "metadata": {},
   "outputs": [],
   "source": [
    "inverse([[1, 2],\n",
    "         [3, 4]])"
   ]
  },
  {
   "cell_type": "code",
   "execution_count": null,
   "metadata": {},
   "outputs": [],
   "source": [
    "class Nono:\n",
    "  def __init__(self, name):\n",
    "    self.name = name"
   ]
  },
  {
   "cell_type": "code",
   "execution_count": null,
   "metadata": {},
   "outputs": [],
   "source": [
    "o = Nono('cwef')"
   ]
  },
  {
   "cell_type": "code",
   "execution_count": null,
   "metadata": {},
   "outputs": [],
   "source": [
    "from database import Save"
   ]
  },
  {
   "cell_type": "code",
   "execution_count": null,
   "metadata": {},
   "outputs": [],
   "source": [
    "s = Save()"
   ]
  },
  {
   "cell_type": "code",
   "execution_count": null,
   "metadata": {},
   "outputs": [],
   "source": [
    "s.save('Pok_Deng', 'God', 30)"
   ]
  },
  {
   "cell_type": "code",
   "execution_count": null,
   "metadata": {},
   "outputs": [],
   "source": [
    "s.database"
   ]
  },
  {
   "cell_type": "code",
   "execution_count": null,
   "metadata": {},
   "outputs": [],
   "source": [
    "s.load('Pok_Deng', 'Tonwan')"
   ]
  },
  {
   "cell_type": "code",
   "execution_count": null,
   "metadata": {},
   "outputs": [],
   "source": [
    "s.reset()"
   ]
  },
  {
   "cell_type": "code",
   "execution_count": null,
   "metadata": {},
   "outputs": [],
   "source": []
  },
  {
   "cell_type": "code",
   "execution_count": null,
   "metadata": {},
   "outputs": [],
   "source": [
    "import turtle"
   ]
  },
  {
   "cell_type": "code",
   "execution_count": null,
   "metadata": {},
   "outputs": [],
   "source": [
    "t = turtle.Turtle()\n",
    "\n",
    "t.xcor()"
   ]
  },
  {
   "cell_type": "code",
   "execution_count": null,
   "metadata": {},
   "outputs": [],
   "source": [
    "t.forward(100)"
   ]
  },
  {
   "cell_type": "code",
   "execution_count": null,
   "metadata": {},
   "outputs": [],
   "source": [
    "t.xcor()"
   ]
  },
  {
   "cell_type": "code",
   "execution_count": null,
   "metadata": {},
   "outputs": [],
   "source": []
  },
  {
   "cell_type": "code",
   "execution_count": null,
   "metadata": {},
   "outputs": [],
   "source": []
  },
  {
   "cell_type": "code",
   "execution_count": null,
   "metadata": {},
   "outputs": [],
   "source": [
    "d = {'e': 5, 'b': 2, 'c': 3, 'r': 1}"
   ]
  },
  {
   "cell_type": "code",
   "execution_count": null,
   "metadata": {},
   "outputs": [],
   "source": [
    "l = ['ba', 'a', 'bac', 'r']"
   ]
  },
  {
   "cell_type": "code",
   "execution_count": null,
   "metadata": {},
   "outputs": [],
   "source": [
    "sorted(d.items(), key=lambda x: x[1])"
   ]
  },
  {
   "cell_type": "code",
   "execution_count": null,
   "metadata": {},
   "outputs": [],
   "source": []
  },
  {
   "cell_type": "code",
   "execution_count": null,
   "metadata": {},
   "outputs": [],
   "source": [
    "'''if any(e.hit_p for e in enemy_):\n",
    "       break'''"
   ]
  },
  {
   "cell_type": "code",
   "execution_count": null,
   "metadata": {},
   "outputs": [],
   "source": [
    "l = Save()"
   ]
  },
  {
   "cell_type": "code",
   "execution_count": null,
   "metadata": {},
   "outputs": [],
   "source": []
  },
  {
   "cell_type": "code",
   "execution_count": null,
   "metadata": {},
   "outputs": [],
   "source": [
    "class Abudabi:\n",
    "\n",
    "    num = 0\n",
    "    def __init__(self) -> None:\n",
    "        Abudabi.num += 1\n",
    "        self.name = f'banana{Abudabi.num}'\n",
    "\n",
    "    def __repr__(self) -> str:\n",
    "        return self.name\n",
    "\n",
    "    def say_hi(self):\n",
    "        print(f'ho ho {self.name}')"
   ]
  },
  {
   "cell_type": "code",
   "execution_count": null,
   "metadata": {},
   "outputs": [],
   "source": [
    "lst = [Abudabi() for _ in range(5)]\n",
    "lst"
   ]
  },
  {
   "cell_type": "code",
   "execution_count": null,
   "metadata": {},
   "outputs": [],
   "source": [
    "for banana in lst:\n",
    "    banana.say_hi()"
   ]
  },
  {
   "cell_type": "code",
   "execution_count": null,
   "metadata": {},
   "outputs": [],
   "source": [
    "class room:\n",
    "    def __init__(self, room_name) -> None:\n",
    "        self.room_name =room_name\n",
    "\n",
    "    def __repr__(self) -> str:\n",
    "        return self.room_name"
   ]
  },
  {
   "cell_type": "code",
   "execution_count": null,
   "metadata": {},
   "outputs": [],
   "source": [
    "\n",
    "class hotel:\n",
    "    def __init__(self) -> None:\n",
    "        self.all_room = []\n",
    "        self.make_room()\n",
    "\n",
    "    def make_room(self):\n",
    "        for floor_num in range(1, 5):\n",
    "            for room_alp in 'ABCD':\n",
    "                self.all_room.append(room(str(floor_num)+room_alp))\n"
   ]
  },
  {
   "cell_type": "code",
   "execution_count": null,
   "metadata": {},
   "outputs": [],
   "source": [
    "hihi = hotel()"
   ]
  },
  {
   "cell_type": "code",
   "execution_count": null,
   "metadata": {},
   "outputs": [],
   "source": [
    "hihi.all_room"
   ]
  },
  {
   "cell_type": "code",
   "execution_count": null,
   "metadata": {},
   "outputs": [],
   "source": []
  },
  {
   "cell_type": "code",
   "execution_count": null,
   "metadata": {},
   "outputs": [],
   "source": []
  },
  {
   "cell_type": "code",
   "execution_count": null,
   "metadata": {},
   "outputs": [],
   "source": [
    "from turtle import textinput"
   ]
  },
  {
   "cell_type": "code",
   "execution_count": null,
   "metadata": {},
   "outputs": [],
   "source": [
    "detail = ['nameTH', 'nameEN', 'author', 'publisher', 'isbn', 'status', 'category', 'rating', 'location','cover']\n",
    "for i in range(len(detail)):\n",
    "    exec(f\"{detail[i]} = textinput('Book Detail', f'{detail[i]}')\")\n"
   ]
  },
  {
   "cell_type": "code",
   "execution_count": null,
   "metadata": {},
   "outputs": [],
   "source": [
    "author"
   ]
  },
  {
   "cell_type": "code",
   "execution_count": null,
   "metadata": {},
   "outputs": [],
   "source": []
  },
  {
   "cell_type": "code",
   "execution_count": null,
   "metadata": {},
   "outputs": [],
   "source": []
  },
  {
   "cell_type": "code",
   "execution_count": null,
   "metadata": {},
   "outputs": [],
   "source": []
  },
  {
   "cell_type": "code",
   "execution_count": null,
   "metadata": {},
   "outputs": [],
   "source": [
    "import random\n",
    "import turtle"
   ]
  },
  {
   "cell_type": "code",
   "execution_count": null,
   "metadata": {},
   "outputs": [],
   "source": [
    "\n",
    "\n"
   ]
  },
  {
   "cell_type": "code",
   "execution_count": null,
   "metadata": {},
   "outputs": [],
   "source": []
  },
  {
   "cell_type": "code",
   "execution_count": null,
   "metadata": {},
   "outputs": [],
   "source": []
  },
  {
   "cell_type": "code",
   "execution_count": null,
   "metadata": {},
   "outputs": [],
   "source": []
  },
  {
   "cell_type": "code",
   "execution_count": null,
   "metadata": {},
   "outputs": [],
   "source": []
  },
  {
   "cell_type": "code",
   "execution_count": null,
   "metadata": {},
   "outputs": [],
   "source": []
  },
  {
   "cell_type": "code",
   "execution_count": null,
   "metadata": {},
   "outputs": [],
   "source": [
    "{'price': 0, 'owner': None}"
   ]
  },
  {
   "cell_type": "code",
   "execution_count": null,
   "metadata": {},
   "outputs": [],
   "source": [
    "for ba in ba:\n",
    "    price = floor_num *100 + 3000\n",
    "    for na in na:\n",
    "        {'price': price}"
   ]
  },
  {
   "cell_type": "code",
   "execution_count": null,
   "metadata": {},
   "outputs": [],
   "source": []
  },
  {
   "cell_type": "code",
   "execution_count": null,
   "metadata": {},
   "outputs": [],
   "source": []
  },
  {
   "cell_type": "code",
   "execution_count": null,
   "metadata": {},
   "outputs": [],
   "source": [
    "'bookid', 'en', 'oo', 'a', 'i'"
   ]
  },
  {
   "cell_type": "code",
   "execution_count": null,
   "metadata": {},
   "outputs": [],
   "source": [
    "def j(*b):\n",
    "    one, two, tree, four, five = b\n",
    "    print(tree)"
   ]
  },
  {
   "cell_type": "code",
   "execution_count": null,
   "metadata": {},
   "outputs": [],
   "source": [
    "def h(one, two, tree, four, five):\n",
    "    "
   ]
  },
  {
   "cell_type": "code",
   "execution_count": null,
   "metadata": {},
   "outputs": [],
   "source": [
    "j('bookid', 'en', 'oo', 'a', 'i')"
   ]
  },
  {
   "cell_type": "code",
   "execution_count": null,
   "metadata": {},
   "outputs": [],
   "source": []
  },
  {
   "cell_type": "code",
   "execution_count": null,
   "metadata": {},
   "outputs": [],
   "source": [
    "[]"
   ]
  },
  {
   "cell_type": "code",
   "execution_count": null,
   "metadata": {},
   "outputs": [],
   "source": []
  },
  {
   "cell_type": "code",
   "execution_count": null,
   "metadata": {},
   "outputs": [],
   "source": []
  },
  {
   "cell_type": "code",
   "execution_count": null,
   "metadata": {},
   "outputs": [],
   "source": []
  },
  {
   "cell_type": "code",
   "execution_count": null,
   "metadata": {},
   "outputs": [],
   "source": []
  },
  {
   "cell_type": "code",
   "execution_count": null,
   "metadata": {},
   "outputs": [],
   "source": []
  },
  {
   "cell_type": "code",
   "execution_count": null,
   "metadata": {},
   "outputs": [],
   "source": []
  },
  {
   "cell_type": "code",
   "execution_count": null,
   "metadata": {},
   "outputs": [],
   "source": [
    "def g(z):\n",
    "    global A\n",
    "    A += 5\n",
    "    return A + z\n",
    "\n",
    "A = 3\n",
    "g(5)"
   ]
  },
  {
   "cell_type": "code",
   "execution_count": null,
   "metadata": {},
   "outputs": [],
   "source": []
  },
  {
   "cell_type": "code",
   "execution_count": null,
   "metadata": {},
   "outputs": [],
   "source": [
    "def check_in(self, room, name, money):\n",
    "\n",
    "        if self.all_room[room][\"name\"]:\n",
    "            print(\"This room reserved.\")\n",
    "        elif self.all_room[room][\"money\"] > money:\n",
    "            print(\"You don't have enough money.\")\n",
    "        else:\n",
    "            self.all_room[room][\"name\"] = name\n",
    "            self.database.check_in(room, name, money)\n"
   ]
  },
  {
   "cell_type": "code",
   "execution_count": null,
   "metadata": {},
   "outputs": [],
   "source": []
  },
  {
   "cell_type": "code",
   "execution_count": null,
   "metadata": {},
   "outputs": [],
   "source": []
  },
  {
   "cell_type": "code",
   "execution_count": null,
   "metadata": {},
   "outputs": [],
   "source": [
    "from numpy import *\n",
    "a = reshape(ones(9), (3, 2)) + 3*identity(3)"
   ]
  },
  {
   "cell_type": "code",
   "execution_count": null,
   "metadata": {},
   "outputs": [],
   "source": [
    "a = array([[1, 2, 3], [0, 1, 4]])\n",
    "b = zeros((2, 3))\n",
    "c = ones((2, 3))\n",
    "d = a+b+c\n",
    "d[1, 2]"
   ]
  },
  {
   "cell_type": "code",
   "execution_count": null,
   "metadata": {},
   "outputs": [],
   "source": [
    "i, s, n = 1, 0, 5\n",
    "count = 0\n",
    "while 1:\n",
    "    s+=i\n",
    "    i+=1\n",
    "    count += 1\n",
    "    if s > 20 or i > n:\n",
    "        break = [1]\n",
    "print(count)"
   ]
  },
  {
   "cell_type": "code",
   "execution_count": null,
   "metadata": {},
   "outputs": [],
   "source": [
    "k=[1, 5, 3]\n",
    "def x():\n",
    "    k[0] = 9\n"
   ]
  },
  {
   "cell_type": "code",
   "execution_count": null,
   "metadata": {},
   "outputs": [],
   "source": [
    "x()"
   ]
  },
  {
   "cell_type": "code",
   "execution_count": null,
   "metadata": {},
   "outputs": [],
   "source": [
    "k"
   ]
  },
  {
   "cell_type": "code",
   "execution_count": null,
   "metadata": {},
   "outputs": [],
   "source": [
    "k = [[1, 2, 3], [4, 5, 6], [7, 8, 9]]\n",
    "s = 0\n",
    "for i in range(3):\n",
    "    for j in range(i):\n",
    "        s+=k[i][j]\n"
   ]
  },
  {
   "cell_type": "code",
   "execution_count": null,
   "metadata": {},
   "outputs": [],
   "source": [
    "s"
   ]
  },
  {
   "cell_type": "code",
   "execution_count": null,
   "metadata": {},
   "outputs": [],
   "source": [
    "def nothing(x=33, y):\n",
    "    print(x, y)"
   ]
  },
  {
   "cell_type": "code",
   "execution_count": null,
   "metadata": {},
   "outputs": [],
   "source": [
    "i = 0\n",
    "while i< 5:\n",
    "    i = (i+1) % 3\n",
    "    print(end=str(i))"
   ]
  },
  {
   "cell_type": "code",
   "execution_count": null,
   "metadata": {},
   "outputs": [],
   "source": [
    "class nope:\n",
    "    def __init__(self, num) -> None:\n",
    "        self.num = num\n",
    "\n",
    "    def __repr__(self) -> str:\n",
    "        return str(self.num)\n",
    "\n",
    "\n",
    "l = [nope(num) for num in range(4)]\n",
    "print(l)\n",
    "print()\n",
    "for x in l:\n",
    "    x.num = 4\n",
    "    print(l)\n",
    "print(l)"
   ]
  },
  {
   "cell_type": "code",
   "execution_count": null,
   "metadata": {},
   "outputs": [],
   "source": []
  },
  {
   "cell_type": "code",
   "execution_count": null,
   "metadata": {},
   "outputs": [],
   "source": []
  },
  {
   "cell_type": "code",
   "execution_count": null,
   "metadata": {},
   "outputs": [],
   "source": [
    "class People:\n",
    "    def __init__(self, name, age):\n",
    "        self.name = name\n",
    "        self.age = age\n",
    "        self.say_hi()\n",
    "\n",
    "    def __repr__(self) -> str:\n",
    "        return f'People name={self.name} age={self.age}'\n",
    "\n",
    "    def say_hi(self):\n",
    "        other = input('enter name: ')\n",
    "        print(f'{self.name} say hi to {other}:)')"
   ]
  },
  {
   "cell_type": "code",
   "execution_count": null,
   "metadata": {},
   "outputs": [],
   "source": [
    "import turtle"
   ]
  },
  {
   "cell_type": "code",
   "execution_count": null,
   "metadata": {},
   "outputs": [],
   "source": [
    "turtle.write('hi', False, 'middle', font='Menlo')"
   ]
  },
  {
   "cell_type": "code",
   "execution_count": 1,
   "metadata": {},
   "outputs": [],
   "source": [
    "import turtle\n",
    "\n",
    "class Screen:\n",
    "    def __init__(self) -> None:\n",
    "        self.screen = turtle.Screen()\n",
    "        self.painter = turtle.Turtle()\n",
    "        self.screen.screensize(300, 300)\n",
    "        self.screen.bgcolor(\"#33ADFF\")\n",
    "\n",
    "\n",
    "    def create_screen(self):\n",
    "        self.painter.pencolor(\"#FFFAF0\")\n",
    "        self.painter.speed(0)\n",
    "        self.painter.hideturtle()\n",
    "        now_x, now_y = -280, 260\n",
    "        self.painter.pensize(10)\n",
    "        self.painter.penup()\n",
    "        for _ in range(6):\n",
    "            self.painter.goto(now_x, now_y)\n",
    "            self.painter.pendown()\n",
    "            self.painter.pencolor('black')\n",
    "            self.painter.write(self.painter.ycor(), False, 'left', font='Menlo')\n",
    "            self.painter.pencolor(\"#FFFAF0\")\n",
    "            self.painter.goto(now_x + 600, now_y)\n",
    "            now_y -= 60\n",
    "            self.painter.penup()\n",
    "\n",
    "        now_x, now_y = -280, 260\n",
    "        for _ in range(11):\n",
    "            self.painter.goto(now_x, now_y)\n",
    "            self.painter.pendown()\n",
    "            self.painter.pencolor('black')\n",
    "            self.painter.write(self.painter.xcor(), False, 'right', font='Menlo')\n",
    "            self.painter.pencolor(\"#FFFAF0\")\n",
    "            self.painter.goto(now_x, now_y - 300)\n",
    "            now_x += 60\n",
    "            self.painter.penup()\n",
    "\n",
    "        now_x, now_y = -300, 210\n",
    "        self.painter.pencolor('black')\n",
    "        self.painter.goto(now_x, now_y)\n",
    "        for i in range(5, 0, -1):\n",
    "            self.painter.write(i, False, 'right', font=('Menlo', 30))\n",
    "            now_y -= 60\n",
    "            self.painter.goto(now_x, now_y)\n",
    "        self.painter.showturtle()"
   ]
  },
  {
   "cell_type": "code",
   "execution_count": null,
   "metadata": {},
   "outputs": [],
   "source": [
    "import turtle"
   ]
  },
  {
   "cell_type": "code",
   "execution_count": null,
   "metadata": {},
   "outputs": [],
   "source": [
    "turtle.mainloop?"
   ]
  },
  {
   "cell_type": "code",
   "execution_count": null,
   "metadata": {},
   "outputs": [],
   "source": [
    "pip list"
   ]
  },
  {
   "cell_type": "code",
   "execution_count": 2,
   "metadata": {},
   "outputs": [
    {
     "name": "stdout",
     "output_type": "stream",
     "text": [
      "40 58 58 32 100 32 97 32 115 32 109 39 73\n"
     ]
    }
   ],
   "source": [
    "TEXT = \"I'm s a d ::(\"[::-1]\n",
    "print(' '.join(map(lambda x: str(ord(x)), TEXT)))"
   ]
  },
  {
   "cell_type": "code",
   "execution_count": 6,
   "metadata": {},
   "outputs": [
    {
     "name": "stdout",
     "output_type": "stream",
     "text": [
      "/ a/\n",
      "/b /\n",
      "/ c/\n",
      "/d /\n"
     ]
    }
   ],
   "source": [
    "txt = input('Text:')\n",
    "for i in range(len(txt)):\n",
    "    if i % 2:\n",
    "        print(f\"/ {txt[i].lower()}/\")\n",
    "    else:\n",
    "        print(f\"/{txt[i].lower()} /\")\n"
   ]
  },
  {
   "cell_type": "code",
   "execution_count": 3,
   "metadata": {},
   "outputs": [
    {
     "data": {
      "text/plain": [
       "\"(:: d a s m'I\""
      ]
     },
     "execution_count": 3,
     "metadata": {},
     "output_type": "execute_result"
    }
   ],
   "source": [
    "TEXT"
   ]
  },
  {
   "cell_type": "code",
   "execution_count": 11,
   "metadata": {},
   "outputs": [],
   "source": [
    "num, alp = '1A'"
   ]
  },
  {
   "cell_type": "code",
   "execution_count": 12,
   "metadata": {},
   "outputs": [
    {
     "data": {
      "text/plain": [
       "'1'"
      ]
     },
     "execution_count": 12,
     "metadata": {},
     "output_type": "execute_result"
    }
   ],
   "source": [
    "num"
   ]
  },
  {
   "cell_type": "code",
   "execution_count": 13,
   "metadata": {},
   "outputs": [
    {
     "data": {
      "text/plain": [
       "'A'"
      ]
     },
     "execution_count": 13,
     "metadata": {},
     "output_type": "execute_result"
    }
   ],
   "source": [
    "alp"
   ]
  },
  {
   "cell_type": "code",
   "execution_count": null,
   "metadata": {},
   "outputs": [],
   "source": []
  }
 ],
 "metadata": {
  "interpreter": {
   "hash": "aee8b7b246df8f9039afb4144a1f6fd8d2ca17a180786b69acc140d282b71a49"
  },
  "kernelspec": {
   "display_name": "Python 3.10.0 64-bit",
   "language": "python",
   "name": "python3"
  },
  "language_info": {
   "codemirror_mode": {
    "name": "ipython",
    "version": 3
   },
   "file_extension": ".py",
   "mimetype": "text/x-python",
   "name": "python",
   "nbconvert_exporter": "python",
   "pygments_lexer": "ipython3",
   "version": "3.10.0"
  },
  "orig_nbformat": 4
 },
 "nbformat": 4,
 "nbformat_minor": 2
}
